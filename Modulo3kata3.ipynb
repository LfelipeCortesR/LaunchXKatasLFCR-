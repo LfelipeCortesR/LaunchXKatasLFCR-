{
 "cells": [
  {
   "cell_type": "code",
   "execution_count": null,
   "metadata": {},
   "outputs": [],
   "source": []
  },
  {
   "cell_type": "markdown",
   "metadata": {},
   "source": [
    "## Declaraciones if, else, y elif"
   ]
  },
  {
   "cell_type": "code",
   "execution_count": 2,
   "metadata": {},
   "outputs": [
    {
     "name": "stdout",
     "output_type": "stream",
     "text": [
      "El asteroide es un peligro Iniciar medidas de emergencia\n"
     ]
    }
   ],
   "source": [
    "vel_alerta=25\n",
    "vel_asteroide=49\n",
    "if vel_asteroide < vel_alerta:\n",
    "    print(\"No hay nada que ver\")\n",
    "else:\n",
    "    print(\"Alerta asteroide\")"
   ]
  },
  {
   "cell_type": "code",
   "execution_count": 3,
   "metadata": {},
   "outputs": [
    {
     "name": "stdout",
     "output_type": "stream",
     "text": [
      "Lo sentimos este asteroide no sera visible\n"
     ]
    }
   ],
   "source": [
    "vel_alertar=20\n",
    "vel_asteroide=19\n",
    "\n",
    "if vel_asteroide > vel_alertar:\n",
    "    print(\"Mira arriba se producira un rayo de luz por un asteroide\")\n",
    "elif vel_asteroide == vel_alertar:\n",
    "    print(\"Mira arriba se producira un rayo de luz por un asteroide\")\n",
    "else:\n",
    "    print(\"No mires arriba\")\n"
   ]
  },
  {
   "cell_type": "markdown",
   "metadata": {},
   "source": [
    "## Uso de operadores and y or"
   ]
  },
  {
   "cell_type": "code",
   "execution_count": 7,
   "metadata": {},
   "outputs": [
    {
     "name": "stdout",
     "output_type": "stream",
     "text": [
      "Mira arriba podras ver un rayo de luz por causa de un asteroide\n"
     ]
    }
   ],
   "source": [
    "vol_alerta=25\n",
    "vol_alerta2=1000\n",
    "\n",
    "vel_alertar=20\n",
    "\n",
    "vol_asteroide=10\n",
    "vel_asteroide=50\n",
    "\n",
    "if vol_asteroide > vol_alerta and vol_asteroide < vol_alerta2:\n",
    "    print(\"Todos vamos a morir\")\n",
    "elif vol_asteroide > vol_alerta and vel_asteroide > vel_alertar:\n",
    "    print(\"Todos vamos a morir\")\n",
    "elif vol_asteroide < vol_alerta and vel_asteroide > vel_alertar:\n",
    "    print(\"Mira arriba podras ver un rayo de luz por causa de un asteroide\")\n",
    "elif vol_asteroide < vol_alerta or vel_asteroide == vel_alertar:\n",
    "    print(\"Mira arriba podras ver un rayo de luz por causa de un asteroide\")\n",
    "else:\n",
    "    print(\"No hay nada que ver\")\n",
    "\n",
    "\n"
   ]
  }
 ],
 "metadata": {
  "interpreter": {
   "hash": "07ac95ea821752259eff64c08e978c5eff9b054f16715e275fa9700d2b12bf48"
  },
  "kernelspec": {
   "display_name": "Python 3.10.2 64-bit",
   "language": "python",
   "name": "python3"
  },
  "language_info": {
   "codemirror_mode": {
    "name": "ipython",
    "version": 3
   },
   "file_extension": ".py",
   "mimetype": "text/x-python",
   "name": "python",
   "nbconvert_exporter": "python",
   "pygments_lexer": "ipython3",
   "version": "3.10.2"
  },
  "orig_nbformat": 4
 },
 "nbformat": 4,
 "nbformat_minor": 2
}
