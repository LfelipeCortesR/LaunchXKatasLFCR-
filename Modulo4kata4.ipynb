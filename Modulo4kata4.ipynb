{
 "cells": [
  {
   "cell_type": "code",
   "execution_count": null,
   "metadata": {},
   "outputs": [],
   "source": []
  },
  {
   "cell_type": "markdown",
   "metadata": {},
   "source": [
    "## Transformar cadenas"
   ]
  },
  {
   "cell_type": "code",
   "execution_count": 5,
   "metadata": {},
   "outputs": [
    {
     "name": "stdout",
     "output_type": "stream",
     "text": [
      "The Moon is Earth's only satellite\n",
      "There are several interesting facts about the Moon and how it affects life here on Earth\n",
      "This yearly drift is not significant enough to cause immediate effects on Earth\n",
      "The hig \n",
      "Interesting facts about the Moon\n",
      "The Moon is Earth's only satellite\n",
      "There are several interesting facts about the Moon and how it affects life here on Earth\n",
      "This yearly drift is not significant enough to cause immediate effects on Earth\n",
      "The hig \n"
     ]
    }
   ],
   "source": [
    "text = \"\"\"Interesting facts about the Moon. The Moon is Earth's only satellite. There are several interesting facts about the Moon and how it affects life here on Earth. \n",
    "On average, the Moon moves 4cm away from the Earth every year. This yearly drift is not significant enough to cause immediate effects on Earth. The hig \"\"\"\n",
    "\n",
    "#Primero, divide el texto en cada oración para trabajar con su contenido:\n",
    "div_text=text.split('. ')\n",
    "div_text\n",
    "\n",
    "#define algunas palabras clave para búsqueda que te ayudarán a determinar si una oración contiene un hecho\n",
    "pclave=[\"average\", \"temperature\", \"distance\"]\n",
    "\n",
    "#ciclo for para recorrer la cadena\n",
    "for cadena in div_text:\n",
    "    for pclave in pclave:\n",
    "        if pclave in cadena:\n",
    "            print(cadena)\n",
    "            break\n",
    "\n",
    "#ciclo para cambiar C a Celsius\n",
    "for cadena in div_text:\n",
    "    for pclave in pclave:\n",
    "        if pclave in cadena:\n",
    "            print(cadena.replace('C', 'Celcius'))\n",
    "            break"
   ]
  },
  {
   "cell_type": "markdown",
   "metadata": {},
   "source": [
    "## Formateando Cadenas"
   ]
  },
  {
   "cell_type": "code",
   "execution_count": 20,
   "metadata": {},
   "outputs": [
    {
     "name": "stdout",
     "output_type": "stream",
     "text": [
      "Gravity Facts about Ganymede\n",
      "--------------------------------------------------\n",
      "Planet name: Earth\n",
      "Gravity on Ganymede: 1.6199999999999999 m/s2\n",
      "\n",
      "\n",
      "Gravity Facts about Ganymede\n",
      "--------------------------------------------------\n",
      "Planet name: Earth\n",
      "Gravity on Ganymede: 1.6199999999999999 m/s2\n",
      "\n",
      "\n",
      "\n",
      "Datos de Gravedad sobre: Ganimedes\n",
      "-------------------------------------------------------------------------------\n",
      "Nombre del planeta: Marte \n",
      "Gravedad en Ganimedes: 0.00143 m/s2\n",
      "\n",
      "\n",
      "Datos de Gravedad sobre: Ganimedes\n",
      "-------------------------------------------------------------------------------\n",
      "Nombre del planeta: Marte \n",
      "Gravedad en Ganimedes: 1.4300000000000002 m/s2\n",
      "\n"
     ]
    }
   ],
   "source": [
    "name = \"Moon\"\n",
    "gravity = 0.00162 # in kms\n",
    "planet = \"Earth\"\n",
    "\n",
    "#Creamos el titulo\n",
    "titulo='Gravity Facts about Ganymede'\n",
    "f'{titulo.title()}'\n",
    "\n",
    "# Creamos la plantilla\n",
    "kilom=gravity*1000\n",
    "plan=\"Planet name: \" + planet\n",
    "grav=\"Gravity on Ganymede: \" + str(kilom) +\" m/s2\"\n",
    "\n",
    "plantilla=f\"\"\"{'-'*50}\n",
    "{plan}\n",
    "{grav}\n",
    "\"\"\"\n",
    "#Unión de ambas cadena\n",
    "finale=f\"\"\"{titulo}\n",
    "{plantilla}\n",
    "\"\"\"\n",
    "\n",
    "print(finale)\n",
    "\n",
    "#Datos nuevos\n",
    "name='Ganimedes'\n",
    "planet='Marte '\n",
    "gravity=0.00143\n",
    "\n",
    "#Comprobacion\n",
    "print(finale)\n",
    "\n",
    "#nueva plantilla\n",
    "nuev_plan=\"\"\"\n",
    "Datos de Gravedad sobre: {name}\n",
    "-------------------------------------------------------------------------------\n",
    "Nombre del planeta: {planet}\n",
    "Gravedad en {name}: {gravity} m/s2\n",
    "\"\"\"\n",
    "print(nuev_plan.format(name=name, planet=planet, gravity=gravity*1000))\n"
   ]
  }
 ],
 "metadata": {
  "interpreter": {
   "hash": "07ac95ea821752259eff64c08e978c5eff9b054f16715e275fa9700d2b12bf48"
  },
  "kernelspec": {
   "display_name": "Python 3.10.2 64-bit",
   "language": "python",
   "name": "python3"
  },
  "language_info": {
   "codemirror_mode": {
    "name": "ipython",
    "version": 3
   },
   "file_extension": ".py",
   "mimetype": "text/x-python",
   "name": "python",
   "nbconvert_exporter": "python",
   "pygments_lexer": "ipython3",
   "version": "3.10.2"
  },
  "orig_nbformat": 4
 },
 "nbformat": 4,
 "nbformat_minor": 2
}
