{
 "cells": [
  {
   "cell_type": "code",
   "execution_count": null,
   "metadata": {},
   "outputs": [],
   "source": []
  },
  {
   "cell_type": "markdown",
   "metadata": {},
   "source": [
    "## Utilizar operadores aritméticos"
   ]
  },
  {
   "cell_type": "code",
   "execution_count": 12,
   "metadata": {},
   "outputs": [
    {
     "name": "stdout",
     "output_type": "stream",
     "text": [
      "628949330\n",
      "390810874.13143003\n"
     ]
    }
   ],
   "source": [
    "#Crear variables para almacenar las dos distancias\n",
    "\n",
    "tierra=149597870\n",
    "jupiter=778547200\n",
    "\n",
    "distanciak =  jupiter - tierra\n",
    "print(distanciak)\n",
    "\n",
    "distanciam = distanciak * 0.621371\n",
    "print(distanciam)"
   ]
  },
  {
   "cell_type": "markdown",
   "metadata": {},
   "source": [
    "## convierte cadenas en números y usa valores absolutos"
   ]
  },
  {
   "cell_type": "code",
   "execution_count": 14,
   "metadata": {},
   "outputs": [
    {
     "name": "stdout",
     "output_type": "stream",
     "text": [
      "629000000.0\n",
      "390609000.0\n"
     ]
    }
   ],
   "source": [
    "# Almacenar las entradas del usuario\n",
    "planeta1=input('Ingrese la distancia de el primer planeta en kilometros porfavor')\n",
    "planeta2=input('Ingrese la distancia de el segundo planeta en kilometros porfavor')\n",
    "\n",
    "# Convierte las cadenas de ambos planetas a números enteros\n",
    "distancia1=float(planeta1)\n",
    "distancia2=float(planeta2)\n",
    "\n",
    "# Realizar el cálculo y determinar el valor absoluto\n",
    "distanciak=distancia1-distancia2\n",
    "print(abs(distanciak))\n",
    "\n",
    "# Convertir de KM a Millas\n",
    "distanciam=distanciak*0.621\n",
    "print(abs(distanciam))"
   ]
  }
 ],
 "metadata": {
  "interpreter": {
   "hash": "07ac95ea821752259eff64c08e978c5eff9b054f16715e275fa9700d2b12bf48"
  },
  "kernelspec": {
   "display_name": "Python 3.10.2 64-bit",
   "language": "python",
   "name": "python3"
  },
  "language_info": {
   "codemirror_mode": {
    "name": "ipython",
    "version": 3
   },
   "file_extension": ".py",
   "mimetype": "text/x-python",
   "name": "python",
   "nbconvert_exporter": "python",
   "pygments_lexer": "ipython3",
   "version": "3.10.2"
  },
  "orig_nbformat": 4
 },
 "nbformat": 4,
 "nbformat_minor": 2
}
