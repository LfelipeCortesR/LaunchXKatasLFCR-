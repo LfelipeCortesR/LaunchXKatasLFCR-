{
 "cells": [
  {
   "cell_type": "code",
   "execution_count": null,
   "metadata": {},
   "outputs": [],
   "source": []
  },
  {
   "cell_type": "markdown",
   "metadata": {},
   "source": [
    "## Crear y usar listas de Python"
   ]
  },
  {
   "cell_type": "code",
   "execution_count": 4,
   "metadata": {},
   "outputs": [
    {
     "name": "stdout",
     "output_type": "stream",
     "text": [
      "Mercurio\n",
      "Venus\n",
      "Tierra\n",
      "Marte\n",
      "Jupiter\n",
      "Saturno\n",
      "Urano\n",
      "Neptuno\n",
      "El ultimo elemto es Pluton\n"
     ]
    }
   ],
   "source": [
    "#Creamos la lista planets y la mostramos\n",
    "planetas = ['Mercurio', 'Venus', 'Tierra', 'Marte', 'Jupiter', 'Saturno', 'Urano', 'Neptuno']\n",
    "for p in planetas:\n",
    "    print(p)\n",
    "\n",
    "#Agregamos a plutón y mostramos el último elemento\n",
    "planetas.append(\"Pluton\")\n",
    "print(\"El ultimo elemto es \" + planetas[8])\n"
   ]
  },
  {
   "cell_type": "markdown",
   "metadata": {},
   "source": [
    "## Trabajando con datos de una lista"
   ]
  },
  {
   "cell_type": "code",
   "execution_count": 9,
   "metadata": {},
   "outputs": [
    {
     "name": "stdout",
     "output_type": "stream",
     "text": [
      "Su planeta es el:  6  mas cercano al sol\n",
      "El planeta aun mas cercano al sol es:  Jupiter\n",
      "El planeta aun mas cercano al sol es:  Urano\n"
     ]
    }
   ],
   "source": [
    "planetas = ['Mercurio', 'Venus', 'Tierra', 'Marte', 'Jupiter', 'Saturno', 'Urano', 'Neptuno']\n",
    "\n",
    "#Solicitamos el nombre de un planeta \n",
    "planetau=input(\"Con LA PRIMERA LETRA EN MAYUSCULA porfavor Ingrese el nombre de un planeta\")\n",
    "\n",
    "#Busca el planeta en la lista\n",
    "\n",
    "planetau_i=planetas.index(planetau)\n",
    "print(\"Su planeta es el: \", planetau_i +1 , \" mas cercano al sol\")\n",
    "print(\"El planeta aun mas cercano al sol es: \", planetas[planetau_i-1])\n",
    "print(\"El planeta aun mas cercano al sol es: \", planetas[planetau_i+1])\n"
   ]
  }
 ],
 "metadata": {
  "interpreter": {
   "hash": "07ac95ea821752259eff64c08e978c5eff9b054f16715e275fa9700d2b12bf48"
  },
  "kernelspec": {
   "display_name": "Python 3.10.2 64-bit",
   "language": "python",
   "name": "python3"
  },
  "language_info": {
   "codemirror_mode": {
    "name": "ipython",
    "version": 3
   },
   "file_extension": ".py",
   "mimetype": "text/x-python",
   "name": "python",
   "nbconvert_exporter": "python",
   "pygments_lexer": "ipython3",
   "version": "3.10.2"
  },
  "orig_nbformat": 4
 },
 "nbformat": 4,
 "nbformat_minor": 2
}
