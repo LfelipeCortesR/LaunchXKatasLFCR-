{
 "cells": [
  {
   "cell_type": "code",
   "execution_count": null,
   "metadata": {},
   "outputs": [],
   "source": []
  },
  {
   "cell_type": "markdown",
   "metadata": {},
   "source": [
    "## Creación de diccionarios de Python"
   ]
  },
  {
   "cell_type": "code",
   "execution_count": 3,
   "metadata": {},
   "outputs": [
    {
     "name": "stdout",
     "output_type": "stream",
     "text": [
      "Mars\n",
      "El planeta MarsTiene circuferencia de 6752\n"
     ]
    }
   ],
   "source": [
    "#Crea un diccionario llamado planet con los datos propuestos\n",
    "planets={\n",
    "    'name': 'Mars',\n",
    "    'moons': 2\n",
    "}\n",
    "\n",
    "#Muestra el nombre del planeta y el número de lunas que tiene.\n",
    "print(planets.get('name'))\n",
    "\n",
    "#Agrega la clave circunferencia con los datos proporcionados previamente\n",
    "planets['polar']= 6752\n",
    "planets['equatorial']= 6792\n",
    "\n",
    "#Imprime el nombre del planeta con su circunferencia polar.\n",
    "print(\"El planeta \" + planets.get('name') + \"Tiene circuferencia de \" + str(planets.get('polar')))\n"
   ]
  },
  {
   "cell_type": "markdown",
   "metadata": {},
   "source": [
    "## Programación dinámica con diccionarios"
   ]
  },
  {
   "cell_type": "code",
   "execution_count": 6,
   "metadata": {},
   "outputs": [
    {
     "name": "stdout",
     "output_type": "stream",
     "text": [
      "17.833333333333332\n"
     ]
    }
   ],
   "source": [
    "#Planets and moons\n",
    "planet_moons = {\n",
    "    'mercury': 0,\n",
    "    'venus': 0,\n",
    "    'earth': 1,\n",
    "    'mars': 2,\n",
    "    'jupiter': 79,\n",
    "    'saturn': 82,\n",
    "    'uranus': 27,\n",
    "    'neptune': 14,\n",
    "    'pluto': 5,\n",
    "    'haumea': 2,\n",
    "    'makemake': 1,\n",
    "    'eris': 1\n",
    "}\n",
    "\n",
    "#Añade el código para determinar el número de lunas.\n",
    "moons = planet_moons.values()\n",
    "planetss = len(planet_moons.keys())\n",
    "\n",
    "#Añade el código para determinar el número de lunas.\n",
    "total_moons=0\n",
    "\n",
    "for moon in moons:\n",
    "    total_moons= total_moons + moon\n",
    "\n",
    "final_moons= total_moons/planetss\n",
    "\n",
    "print(final_moons)"
   ]
  }
 ],
 "metadata": {
  "interpreter": {
   "hash": "07ac95ea821752259eff64c08e978c5eff9b054f16715e275fa9700d2b12bf48"
  },
  "kernelspec": {
   "display_name": "Python 3.10.2 64-bit",
   "language": "python",
   "name": "python3"
  },
  "language_info": {
   "codemirror_mode": {
    "name": "ipython",
    "version": 3
   },
   "file_extension": ".py",
   "mimetype": "text/x-python",
   "name": "python",
   "nbconvert_exporter": "python",
   "pygments_lexer": "ipython3",
   "version": "3.10.2"
  },
  "orig_nbformat": 4
 },
 "nbformat": 4,
 "nbformat_minor": 2
}
