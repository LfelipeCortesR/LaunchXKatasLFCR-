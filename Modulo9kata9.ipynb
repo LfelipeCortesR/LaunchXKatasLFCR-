{
 "cells": [
  {
   "cell_type": "code",
   "execution_count": null,
   "metadata": {},
   "outputs": [],
   "source": []
  },
  {
   "cell_type": "markdown",
   "metadata": {},
   "source": [
    "## Uso de funciones en Python"
   ]
  },
  {
   "cell_type": "code",
   "execution_count": 5,
   "metadata": {},
   "outputs": [
    {
     "name": "stdout",
     "output_type": "stream",
     "text": [
      " Informe\n",
      "    el tanque 1 tiene un: 17.5 %\n",
      "    el tanque 2 tiene un: 22 %\n",
      "    el tanque 3 tiene un: 57 %\n",
      "    el promedio es de 32.166666666666664    \n",
      "    \n"
     ]
    }
   ],
   "source": [
    "#Función para leer 3 tanques de combustible y muestre el promedio\n",
    "def informe (tanque1, tanque2, tanque3):\n",
    "    info=f\"\"\" Informe\n",
    "    el tanque 1 tiene un: {tanque1} %\n",
    "    el tanque 2 tiene un: {tanque2} %\n",
    "    el tanque 3 tiene un: {tanque3} %\n",
    "    el promedio es de {promedio(tanque1,tanque2,tanque3)}    \n",
    "    \"\"\"\n",
    "    return info \n",
    "\n",
    "#Función promedio \n",
    "def promedio(v1,v2,v3):\n",
    "    promedio=(v1+v2+v3)/3\n",
    "    return promedio\n",
    "\n",
    "#Llamamos a la función\n",
    "print(informe(17.5,22,57))\n"
   ]
  },
  {
   "cell_type": "markdown",
   "metadata": {},
   "source": [
    "## Trabajo con argumentos de palabra clave"
   ]
  },
  {
   "cell_type": "code",
   "execution_count": 16,
   "metadata": {},
   "outputs": [
    {
     "name": "stdout",
     "output_type": "stream",
     "text": [
      "\n",
      "    Tiempo hasta el destino:84 m \n",
      "    Combustible:15000000\n",
      "    Nombre del destino:urano\n",
      "    \n",
      "\n",
      "    Tiempo hasta el destino:140 m \n",
      "    Combustible:25000000\n",
      "    Nombre del destino:urano\n",
      "    \n",
      "\n",
      "    Tiempo hasta el destino:140 m \n",
      "    Combustible:25000000\n",
      "    Nombre del destino:urano\n",
      "    el tanquet1 tiene: 10000000, el tanquet2 tiene: 5000000, el tanquete tiene: 10000000, \n"
     ]
    }
   ],
   "source": [
    "#Función con un informe preciso de la misión. Considera hora de prelanzamiento, tiempo de vuelo, destino, tanque externo y tanque interno\n",
    "def info_precisio(hp_lanzamiento,t_vuelo,destino,tq_externo,tq_interno):\n",
    "    t_destino = hp_lanzamiento + t_vuelo\n",
    "    combustible=tq_externo+tq_interno\n",
    "\n",
    "    info_p=f\"\"\"\n",
    "    Tiempo hasta el destino:{t_destino} m \n",
    "    Combustible:{combustible}\n",
    "    Nombre del destino:{destino}\n",
    "    \"\"\"\n",
    "    return info_p\n",
    "\n",
    "print(info_precisio(17,67,\"urano\",10000000,5000000))\n",
    "\n",
    "#Escribe tu nueva función de reporte considerando lo anterior\n",
    "def info_precisio_v2(destino,hp_lanzamiento,*minutos,**tanques):\n",
    "    t_destino = hp_lanzamiento + sum(minutos)\n",
    "    info_p=f\"\"\"\n",
    "    Tiempo hasta el destino:{t_destino} m \n",
    "    Combustible:{sum(tanques.values())}\n",
    "    Nombre del destino:{destino}\n",
    "    \"\"\"\n",
    "    return info_p\n",
    "\n",
    "print(info_precisio_v2(\"urano\",17,67,56,t1=10000000,t2=5000000,te=10000000))\n",
    "\n",
    "#Escribe tu nueva función\n",
    "def info_precisio_v3(destino,hp_lanzamiento,*minutos,**tanques):\n",
    "    t_destino = hp_lanzamiento + sum(minutos)\n",
    "    info_p=f\"\"\"\n",
    "    Tiempo hasta el destino:{t_destino} m \n",
    "    Combustible:{sum(tanques.values())}\n",
    "    Nombre del destino:{destino}\n",
    "    \"\"\"\n",
    "\n",
    "    for tq_nom,tq_info in tanques.items():\n",
    "        info_t=f\"el tanque{tq_nom} tiene: {tq_info} \"\n",
    "        info_p += info_t\n",
    "\n",
    "    return info_p\n",
    "\n",
    "print(info_precisio_v3(\"urano\",17,67,56,t1=10000000,t2=5000000,te=10000000))\n",
    "\n",
    "\n"
   ]
  }
 ],
 "metadata": {
  "interpreter": {
   "hash": "07ac95ea821752259eff64c08e978c5eff9b054f16715e275fa9700d2b12bf48"
  },
  "kernelspec": {
   "display_name": "Python 3.10.2 64-bit",
   "language": "python",
   "name": "python3"
  },
  "language_info": {
   "codemirror_mode": {
    "name": "ipython",
    "version": 3
   },
   "file_extension": ".py",
   "mimetype": "text/x-python",
   "name": "python",
   "nbconvert_exporter": "python",
   "pygments_lexer": "ipython3",
   "version": "3.10.2"
  },
  "orig_nbformat": 4
 },
 "nbformat": 4,
 "nbformat_minor": 2
}
